{
 "cells": [
  {
   "cell_type": "code",
   "execution_count": 1,
   "metadata": {},
   "outputs": [
    {
     "name": "stdout",
     "output_type": "stream",
     "text": [
      "url: <url>https://xcdL32112.smart_meter.com</url>\n",
      "https found at index: 13\n",
      "</url> found at index: 38\n",
      "Parsed url: xcdL32112.smart_meter.com\n"
     ]
    }
   ],
   "source": [
    "url = \"<url>https://xcdL32112.smart_meter.com</url>\"\n",
    "print(\"url:\", url)\n",
    "startIdx = 0\n",
    "endIdx = 0\n",
    "try:\n",
    "    startIdx = url.index(\"https://\")\n",
    "    startIdx += 8\n",
    "    print(\"https found at index:\", startIdx)\n",
    "except Exception as e:\n",
    "    try:\n",
    "        startIdx = url.index(\"http://\")\n",
    "        startIdx += 7\n",
    "        print(\"http found at index:\", startIdx)\n",
    "    except ValueError:\n",
    "        print(\"no http[s] found\")\n",
    "\n",
    "try:\n",
    "    endIdx = url.index(\"</url>\")\n",
    "    print(\"</url> found at index:\", endIdx)\n",
    "except Exception as e:\n",
    "    print(\"no </url> found\")\n",
    "else:\n",
    "    print(\"Parsed url:\", url[startIdx:endIdx])"
   ]
  },
  {
   "cell_type": "code",
   "execution_count": null,
   "metadata": {},
   "outputs": [],
   "source": []
  }
 ],
 "metadata": {
  "kernelspec": {
   "display_name": "Python 3",
   "language": "python",
   "name": "python3"
  },
  "language_info": {
   "codemirror_mode": {
    "name": "ipython",
    "version": 3
   },
   "file_extension": ".py",
   "mimetype": "text/x-python",
   "name": "python",
   "nbconvert_exporter": "python",
   "pygments_lexer": "ipython3",
   "version": "3.8.3"
  }
 },
 "nbformat": 4,
 "nbformat_minor": 4
}
